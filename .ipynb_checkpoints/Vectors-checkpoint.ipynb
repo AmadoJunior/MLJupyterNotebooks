{
 "cells": [
  {
   "cell_type": "markdown",
   "id": "nonprofit-tooth",
   "metadata": {},
   "source": [
    "## Dictionary-Based Representation of Vectors\n",
    "A vector is a function from some domain D to a field. I proposed to represent such a function using a Python dictionary. It is convenient to define a Python class Vec so that an instance ha two fields (also know as intance variables, also known as attributes):\n",
    "\n",
    "- f, the function, representd by a Python dictionary, and\n",
    "- D, the domain of the function, represented by a Python set.\n",
    "\n",
    "We adopt the convention in which entries with value zero may be omitted from the dictionary f. This enables sparse vectors to be represented compactly. It might seem a bad idea to require that each instance of Vec keep track of the domain. For example, as previously pointed, in information retrieval one typically  has many documents, each including only a very small subset of words; it would waste memory to duplicate the entire list of allowed words with each document. Fortunately, as we saw previously, Python allows many variables (or instance variables) to point to the same set in memory. This, if we are careful, we can ensure that all the vectors representing documents point to the same domain.\n",
    "\n",
    "The Python code required to define the class Vec is:"
   ]
  },
  {
   "cell_type": "code",
   "execution_count": 18,
   "id": "demographic-automation",
   "metadata": {},
   "outputs": [],
   "source": [
    "class Vec:\n",
    "    def __init__(self, labels, function):\n",
    "        self.D = labels\n",
    "        self.f = function"
   ]
  },
  {
   "cell_type": "code",
   "execution_count": 19,
   "id": "recognized-egyptian",
   "metadata": {},
   "outputs": [
    {
     "name": "stdout",
     "output_type": "stream",
     "text": [
      "1\n"
     ]
    }
   ],
   "source": [
    "v = Vec({\"A\", \"B\", \"C\"}, {\"A\": 1})\n",
    "\n",
    "for d in v.D:\n",
    "    if d in v.f:\n",
    "        print(v.f[d])"
   ]
  },
  {
   "cell_type": "code",
   "execution_count": 35,
   "id": "interior-tamil",
   "metadata": {},
   "outputs": [],
   "source": [
    "def get_item(v, d):\n",
    "    if d in v.f:\n",
    "        return v.f[d]\n",
    "    else:\n",
    "        return 0\n",
    "\n",
    "def set_item(v, d, val):\n",
    "    if d in v.D:\n",
    "        v.f[d] = val\n",
    "    else:\n",
    "        print(\"Outside of Domain\")\n",
    "\n",
    "def scalar_mul(v, alpha):\n",
    "    #Preserves Sparsity\n",
    "    return Vec(v.D, {d: alpha*value for d, value in v.f.items()})\n",
    "\n",
    "def add(u, v):\n",
    "    return Vec({d for d in v.D if d in u.D}, {d: get_item(u, d)+get_item(v, d) for d in v.D if get_item(u, d)+get_item(v, d) != 0})\n"
   ]
  },
  {
   "cell_type": "code",
   "execution_count": 36,
   "id": "healthy-forwarding",
   "metadata": {},
   "outputs": [
    {
     "data": {
      "text/plain": [
       "{'A': 2}"
      ]
     },
     "execution_count": 36,
     "metadata": {},
     "output_type": "execute_result"
    }
   ],
   "source": [
    "v_scaled = scalar_mul(v, 2)\n",
    "v_scaled.f"
   ]
  },
  {
   "cell_type": "code",
   "execution_count": 37,
   "id": "photographic-grass",
   "metadata": {},
   "outputs": [
    {
     "data": {
      "text/plain": [
       "{'A': 6, 'C': 10}"
      ]
     },
     "execution_count": 37,
     "metadata": {},
     "output_type": "execute_result"
    }
   ],
   "source": [
    "u = Vec(v.D, {\"A\": 5, \"C\": 10})\n",
    "add(u, v).f"
   ]
  },
  {
   "cell_type": "code",
   "execution_count": null,
   "id": "handled-marks",
   "metadata": {},
   "outputs": [],
   "source": []
  }
 ],
 "metadata": {
  "kernelspec": {
   "display_name": "Python 3",
   "language": "python",
   "name": "python3"
  },
  "language_info": {
   "codemirror_mode": {
    "name": "ipython",
    "version": 3
   },
   "file_extension": ".py",
   "mimetype": "text/x-python",
   "name": "python",
   "nbconvert_exporter": "python",
   "pygments_lexer": "ipython3",
   "version": "3.7.2"
  }
 },
 "nbformat": 4,
 "nbformat_minor": 5
}
