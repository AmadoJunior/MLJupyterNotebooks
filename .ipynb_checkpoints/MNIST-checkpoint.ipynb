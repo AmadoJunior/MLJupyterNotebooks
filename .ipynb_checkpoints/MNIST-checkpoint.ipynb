{
 "cells": [
  {
   "cell_type": "markdown",
   "id": "domestic-proposition",
   "metadata": {},
   "source": [
    "# MNIST\n",
    "The MNIST dataset is a set of 70,000 small images of digits handwritten by high school students adn employees of the US Census Bureau. Each image is labeled by the digit it represents.\n",
    "\n",
    "Scikit-Learn provides many helper functions to donwload popular datasets. MNIST is one of them.\n",
    "### Fetching the Dataset"
   ]
  },
  {
   "cell_type": "code",
   "execution_count": 1,
   "id": "social-deadline",
   "metadata": {},
   "outputs": [
    {
     "name": "stderr",
     "output_type": "stream",
     "text": [
      "/home/amado/.pyenv/versions/3.7.2/lib/python3.7/site-packages/pandas/compat/__init__.py:97: UserWarning: Could not import the lzma module. Your installed Python is incomplete. Attempting to use lzma compression will result in a RuntimeError.\n",
      "  warnings.warn(msg)\n"
     ]
    },
    {
     "data": {
      "text/plain": [
       "dict_keys(['data', 'target', 'frame', 'categories', 'feature_names', 'target_names', 'DESCR', 'details', 'url'])"
      ]
     },
     "execution_count": 1,
     "metadata": {},
     "output_type": "execute_result"
    }
   ],
   "source": [
    "from sklearn.datasets import fetch_openml\n",
    "import pandas as pd\n",
    "\n",
    "mnist = fetch_openml(\"mnist_784\", version=1)\n",
    "mnist.keys()\n",
    "\n",
    "#By default Scikit-Learn caches download datasets in a directory called $HOME/scikit_learn_data"
   ]
  },
  {
   "cell_type": "markdown",
   "id": "affected-knife",
   "metadata": {},
   "source": [
    "Datasets loaded by Scikit-Learn generally have a similar dictionary structure, including the following:\n",
    "- A DESCR key describing the dataset\n",
    "- A data key containing an array with one row per instance and one column  per feature\n",
    "- A target key containing an array with the labels"
   ]
  },
  {
   "cell_type": "code",
   "execution_count": 2,
   "id": "placed-hampton",
   "metadata": {},
   "outputs": [
    {
     "data": {
      "text/plain": [
       "(70000, 784)"
      ]
     },
     "execution_count": 2,
     "metadata": {},
     "output_type": "execute_result"
    }
   ],
   "source": [
    "X, y = mnist[\"data\"], mnist[\"target\"]\n",
    "X.shape"
   ]
  },
  {
   "cell_type": "code",
   "execution_count": 3,
   "id": "electronic-myrtle",
   "metadata": {},
   "outputs": [
    {
     "data": {
      "text/plain": [
       "(70000,)"
      ]
     },
     "execution_count": 3,
     "metadata": {},
     "output_type": "execute_result"
    }
   ],
   "source": [
    "y.shape"
   ]
  },
  {
   "cell_type": "markdown",
   "id": "institutional-yellow",
   "metadata": {},
   "source": [
    "There are 70,000 images,, and each image has 784 features. This is because each image is 28 x 28 pixels, and each feature simply represents one pixel's intensity, from 0 (white) to 255 (black). \n",
    "### Showing an Image"
   ]
  },
  {
   "cell_type": "code",
   "execution_count": 4,
   "id": "forty-barbados",
   "metadata": {},
   "outputs": [
    {
     "data": {
      "image/png": "[encoded data removed]",
      "text/plain": [
       "<Figure size 432x288 with 1 Axes>"
      ]
     },
     "metadata": {
      "needs_background": "light"
     },
     "output_type": "display_data"
    }
   ],
   "source": [
    "import matplotlib as mpl\n",
    "import matplotlib.pyplot as plt\n",
    "import numpy as np\n",
    "\n",
    "some_digit = X[0:1]\n",
    "some_digit_image = np.reshape(some_digit.to_numpy(), (28, -1))\n",
    "\n",
    "plt.imshow(some_digit_image, cmap=\"binary\")\n",
    "plt.axis(\"off\")\n",
    "plt.show()"
   ]
  },
  {
   "cell_type": "markdown",
   "id": "miniature-illinois",
   "metadata": {},
   "source": [
    "### Casting Label as Interger from String"
   ]
  },
  {
   "cell_type": "code",
   "execution_count": 5,
   "id": "pursuant-berlin",
   "metadata": {},
   "outputs": [],
   "source": [
    "y = y.astype(np.uint8)"
   ]
  },
  {
   "cell_type": "markdown",
   "id": "precise-maria",
   "metadata": {},
   "source": [
    "### Split Test Set\n",
    "The MNIST dataset is actually already split into a training set (the first 60,000 images) and a test set (the last 10,000 images): The training set is already shuffled for us, which is good because this guarantees that all cross-validation folds will be similar (dont't want one fold to be missing some digits). Moreover, some learning algorithms are sensitive to the order of the training intances, and they perform poorly if they get many similar  instances in a row. Shuffling the dataset ensures that this won't happen."
   ]
  },
  {
   "cell_type": "code",
   "execution_count": 6,
   "id": "african-greeting",
   "metadata": {},
   "outputs": [],
   "source": [
    "X_train, X_test, y_train, y_test = X[:60000], X[60000:], y[:60000], y[60000:]"
   ]
  },
  {
   "cell_type": "markdown",
   "id": "complete-rebecca",
   "metadata": {},
   "source": [
    "## Training a Binary Classifier\n",
    "The binary classifier is capable of distinguishing between just to classes, 5 and not-5. Let's create the target vectors for this classification task:"
   ]
  },
  {
   "cell_type": "code",
   "execution_count": 7,
   "id": "acoustic-botswana",
   "metadata": {},
   "outputs": [],
   "source": [
    "y_train_5 = (y_train == 5)\n",
    "y_test_5 = (y_test == 5)"
   ]
  },
  {
   "cell_type": "markdown",
   "id": "strategic-custody",
   "metadata": {},
   "source": [
    "### Stochastic Gradient Descent (SGD)\n",
    "Now let's pick a classifier and train it. A good place to start is with a Stochastic Gradient Descent classifier.\n",
    "This classifier has the advantage of being capable of handling very large datasets efficiently. This is in part because deals with training intantances independently, on at a time (which also makes SGD well suited for online learning), as we will see later."
   ]
  },
  {
   "cell_type": "code",
   "execution_count": 8,
   "id": "suspended-pierre",
   "metadata": {},
   "outputs": [
    {
     "data": {
      "text/plain": [
       "SGDClassifier(random_state=42)"
      ]
     },
     "execution_count": 8,
     "metadata": {},
     "output_type": "execute_result"
    }
   ],
   "source": [
    "from sklearn.linear_model import SGDClassifier\n",
    "\n",
    "sgd_clf = SGDClassifier(random_state=42)\n",
    "sgd_clf.fit(X_train, y_train_5)\n"
   ]
  },
  {
   "cell_type": "code",
   "execution_count": 9,
   "id": "invisible-patent",
   "metadata": {},
   "outputs": [
    {
     "data": {
      "text/plain": [
       "array([ True])"
      ]
     },
     "execution_count": 9,
     "metadata": {},
     "output_type": "execute_result"
    }
   ],
   "source": [
    "sgd_clf.predict(X[0:1])"
   ]
  },
  {
   "cell_type": "markdown",
   "id": "economic-credits",
   "metadata": {},
   "source": [
    "## Performance Measures\n",
    "### Measuring Accuracy Using Cross-Validation\n",
    "Let's use the cross_val_score() function to evaluate our SGDClassifier model, using K-fold cross-validation with three folds. Remember that K-fold corss-validation means pslitting the training set into K folds, then mkaing predictions and evaluating them on each fold using a model trained on the remaining folds."
   ]
  },
  {
   "cell_type": "code",
   "execution_count": 10,
   "id": "mineral-mortality",
   "metadata": {},
   "outputs": [
    {
     "data": {
      "text/plain": [
       "array([0.95035, 0.96035, 0.9604 ])"
      ]
     },
     "execution_count": 10,
     "metadata": {},
     "output_type": "execute_result"
    }
   ],
   "source": [
    "from sklearn.model_selection import cross_val_score\n",
    "cross_val_score(sgd_clf, X_train, y_train_5, cv=3, scoring=\"accuracy\")"
   ]
  },
  {
   "cell_type": "markdown",
   "id": "preliminary-bruce",
   "metadata": {},
   "source": [
    "This may seem like good results at first sight but this is not an accurate way of measuring the accuracy of this algorithm. This is simply because only about 10% of the images are 5s, so if you always guess that an image is not a 5, you will be right about 90% of the time.\n",
    "This demonstrates why accuracy is generally not the preffered performance measure for classifiers, especially when you are dealing with skewed datasets (i.e., when some classes are much more frequent han others)."
   ]
  },
  {
   "cell_type": "markdown",
   "id": "wanted-setup",
   "metadata": {},
   "source": [
    "### Confusion Matrix\n",
    "A much better way to evaluate the performance of a classifier is to look at the confusion matrix. The general idea is to count the number of times instances of class A are classified as class B. "
   ]
  },
  {
   "cell_type": "code",
   "execution_count": 11,
   "id": "spoken-engineering",
   "metadata": {},
   "outputs": [],
   "source": [
    "from sklearn.model_selection import cross_val_predict\n",
    "y_train_pred = cross_val_predict(sgd_clf, X_train, y_train_5, cv=3)"
   ]
  },
  {
   "cell_type": "markdown",
   "id": "false-willow",
   "metadata": {},
   "source": [
    "Just like the cross_val_score() function, cross_val_predict() performs K-fold cross-validation, but intead of returning the valuation scores, it returns the predictions made on each test fold.\n",
    "Now you are ready to get the confusion matrix using the confusion_matrix() function. Just it the target classes (y_train_5) and the predited classes (y_train_pred):"
   ]
  },
  {
   "cell_type": "code",
   "execution_count": 12,
   "id": "mental-silence",
   "metadata": {},
   "outputs": [
    {
     "data": {
      "text/plain": [
       "array([[53892,   687],\n",
       "       [ 1891,  3530]])"
      ]
     },
     "execution_count": 12,
     "metadata": {},
     "output_type": "execute_result"
    }
   ],
   "source": [
    "from sklearn.metrics import confusion_matrix\n",
    "\n",
    "\"\"\"\n",
    "Each row in a confusion matrix represents an actual class:\n",
    "\n",
    "[[True Negative, False Positive],\n",
    " [False Negative, True Positive]]\n",
    " \n",
    "\"\"\"\n",
    "\n",
    "confusion_matrix(y_train_5, y_train_pred)"
   ]
  },
  {
   "cell_type": "markdown",
   "id": "severe-islam",
   "metadata": {},
   "source": [
    "The confusion matrix gives you a lot of information, but sometimes you may prefer a more concise metric.\n",
    "### Precision && Recall Metrics"
   ]
  },
  {
   "cell_type": "code",
   "execution_count": 13,
   "id": "convinced-tonight",
   "metadata": {},
   "outputs": [
    {
     "data": {
      "text/plain": [
       "0.8370879772350012"
      ]
     },
     "execution_count": 13,
     "metadata": {},
     "output_type": "execute_result"
    }
   ],
   "source": [
    "'''\n",
    "Accuracy of the positive predictions; called the precision of the classifier:\n",
    "\n",
    "        precision = TP / (TP + FP)\n",
    "\n",
    "Precision is typically used along with another metric named recall, also called sensitivity or the true positive rate (TPR):\n",
    "This is the ratio of positive instance that correctly detected by the classifier.\n",
    "\n",
    "        recall = TP / (TP + FN)\n",
    "        \n",
    "'''\n",
    "\n",
    "from sklearn.metrics import precision_score, recall_score\n",
    "precision_score(y_train_5, y_train_pred)"
   ]
  },
  {
   "cell_type": "code",
   "execution_count": 14,
   "id": "demographic-score",
   "metadata": {},
   "outputs": [
    {
     "data": {
      "text/plain": [
       "0.6511713705958311"
      ]
     },
     "execution_count": 14,
     "metadata": {},
     "output_type": "execute_result"
    }
   ],
   "source": [
    "recall_score(y_train_5, y_train_pred)"
   ]
  },
  {
   "cell_type": "markdown",
   "id": "extra-simple",
   "metadata": {},
   "source": [
    "It is often convenient to combine precision and recall into a single metric called the F1 score, in particular if you need a simple way to compare two classifiers. The F1 score is the harmonic mean of precision and reclal. Whereas the regular mean treats all values equally , the harmonic mean gives much more weight to low values. As a result, the classifier will only get a high F1 score if both recall and precision are high."
   ]
  },
  {
   "cell_type": "code",
   "execution_count": 15,
   "id": "opposed-evidence",
   "metadata": {},
   "outputs": [
    {
     "data": {
      "text/plain": [
       "0.7325171197343846"
      ]
     },
     "execution_count": 15,
     "metadata": {},
     "output_type": "execute_result"
    }
   ],
   "source": [
    "'''\n",
    "            F1 = TP / (TP + ((FN + FP) / 2))\n",
    "'''\n",
    "\n",
    "from sklearn.metrics import f1_score\n",
    "f1_score(y_train_5, y_train_pred)"
   ]
  },
  {
   "cell_type": "markdown",
   "id": "relevant-partner",
   "metadata": {},
   "source": [
    "The F1 score favors clasifiers that have similar precision and recall. This is not always what you want: in some contexts you mostly care about precision, and in other contexts you really care about recall. FOr example, if you trained a classifier to detect videos that are safe for kids, you would probably prefer a classifier that rejects many good videos (low recall) but keeps only safe ones (high precision), rather rhan a classifier that has much higher recall but lets a few really bad videos show up in your products ( in such cases, you may evn want to add a himan pipeline to check the classifier's video selection). On the other hand, supoose you train a classifier to detect shoplifters in surveillance images: it is probably fine if your classifier has only 30% precision as long as it has 99% recall ( sure, the security guards will get a few false alerts, but almost all shoplifters will get caught). Unfortunately, you can't habve it both ways: increasing precision reduces recal, and vice versa.\n",
    "### Precision/Recall Trade-off\n",
    "To understand this trade-off, let's look at how the SGD Classifier makes its classification decisions. For each instance, it computes a score based ona decision function. If that score is greater thana threshold, it assigns the instance to the possitive class; otherwise it assigns it to the negative class. Lowering threshold increases recall and reduces precision and vice versa.\n",
    "\n",
    "Scikit-Learn does not let you set the threshold directly, but it does give you acces to the decision scores that it uses to make predictions. Instead of calling the clasifier's precit() method, you can call its decision_function() method, which returns a score for each instance, and then use any threshold you want to mkae predictions besed on those scores:"
   ]
  },
  {
   "cell_type": "code",
   "execution_count": 16,
   "id": "according-minimum",
   "metadata": {},
   "outputs": [
    {
     "data": {
      "text/plain": [
       "array([2164.22030239])"
      ]
     },
     "execution_count": 16,
     "metadata": {},
     "output_type": "execute_result"
    }
   ],
   "source": [
    "y_scores = sgd_clf.decision_function(X[0:1])\n",
    "y_scores"
   ]
  },
  {
   "cell_type": "code",
   "execution_count": 18,
   "id": "intelligent-sampling",
   "metadata": {},
   "outputs": [
    {
     "data": {
      "text/plain": [
       "array([ True])"
      ]
     },
     "execution_count": 18,
     "metadata": {},
     "output_type": "execute_result"
    }
   ],
   "source": [
    "threshold = 0\n",
    "y_some_digit_pred = (y_scores > threshold)\n",
    "y_some_digit_pred"
   ]
  },
  {
   "cell_type": "code",
   "execution_count": 20,
   "id": "unnecessary-norfolk",
   "metadata": {},
   "outputs": [
    {
     "data": {
      "text/plain": [
       "array([False])"
      ]
     },
     "execution_count": 20,
     "metadata": {},
     "output_type": "execute_result"
    }
   ],
   "source": [
    "threshold = 8000\n",
    "y_some_digit_pred = (y_scores > threshold)\n",
    "y_some_digit_pred"
   ]
  },
  {
   "cell_type": "markdown",
   "id": "hidden-desert",
   "metadata": {},
   "source": [
    "This confirms that raising the threshold decreases recall. The image actually represents a 5, and the classifier detects it when the threshold is 0, but it misses it when the threshold is increased to 8,000.\n",
    "\n",
    "How do you decide which threshold to use? First, use the cross_val_predict() function to get the scores of all instances in the training set, but this time specify that you want to return decision scores instead of predictions:"
   ]
  },
  {
   "cell_type": "code",
   "execution_count": 22,
   "id": "hindu-capability",
   "metadata": {},
   "outputs": [],
   "source": [
    "y_scores = cross_val_predict(sgd_clf, X_train, y_train_5, cv=3,\n",
    "                            method=\"decision_function\")"
   ]
  },
  {
   "cell_type": "code",
   "execution_count": 42,
   "id": "analyzed-concentrate",
   "metadata": {},
   "outputs": [
    {
     "data": {
      "image/png": "[encoded data removed]",
      "text/plain": [
       "<Figure size 432x288 with 1 Axes>"
      ]
     },
     "metadata": {
      "needs_background": "light"
     },
     "output_type": "display_data"
    }
   ],
   "source": [
    "from sklearn.metrics import precision_recall_curve\n",
    "\n",
    "precisions, recalls, thresholds = precision_recall_curve(y_train_5, y_scores)\n",
    "\n",
    "def plot_precision_recall_vs_threshold(precisions, recalls, thresholds):\n",
    "    plt.plot(thresholds, precisions[:-1], \"b--\", label=\"Precision\")\n",
    "    plt.plot(thresholds, recalls[:-1], \"g-\", label=\"Recall\")\n",
    "    # highlight the threshold and add the legends, axis label, and grid\n",
    "    plt.xlabel(\"Threshold\")\n",
    "    plt.legend()\n",
    "    plt.grid()\n",
    "    \n",
    "plot_precision_recall_vs_threshold(precisions, recalls, thresholds)\n",
    "plt.show()"
   ]
  },
  {
   "cell_type": "markdown",
   "id": "alternate-julian",
   "metadata": {},
   "source": [
    "Another way to select a good precision/recall trade-off is to plot precision directly against recall:"
   ]
  },
  {
   "cell_type": "code",
   "execution_count": 45,
   "id": "hybrid-candle",
   "metadata": {},
   "outputs": [
    {
     "data": {
      "image/png": "[encoded data removed]",
      "text/plain": [
       "<Figure size 432x288 with 1 Axes>"
      ]
     },
     "metadata": {
      "needs_background": "light"
     },
     "output_type": "display_data"
    }
   ],
   "source": [
    "plt.plot(recalls[:-1], precisions[:-1])\n",
    "plt.grid()\n",
    "plt.xlabel(\"Recall\")\n",
    "plt.ylabel(\"Precision\")\n",
    "plt.show()"
   ]
  },
  {
   "cell_type": "markdown",
   "id": "painful-sensitivity",
   "metadata": {},
   "source": [
    "You can see that precision really starts to fall sharply around 80% recall. You will probably want to select a precision/recall trade-off just before that drop - for example, at around 60% recall. But of course, the choice depends on your projects.\n",
    "\n",
    "Suppose you decide to aim for 90% precision. You look up the first plot and find that you need to use a threshold of about 8,000. To be more precise youc an search for the lowest threshold that gives you at least 90% precision (np.argmax() will give you the first index of the maximum value, which is the case mean the first True value):"
   ]
  },
  {
   "cell_type": "code",
   "execution_count": 31,
   "id": "egyptian-trouble",
   "metadata": {},
   "outputs": [],
   "source": [
    "threshold_90_precision = thresholds[np.argmax(precisions >= 0.90)]"
   ]
  },
  {
   "cell_type": "markdown",
   "id": "crude-prompt",
   "metadata": {},
   "source": [
    "To make predictions (on the training set now), intead of calling the classifiers predict() methods, you can run this code:"
   ]
  },
  {
   "cell_type": "code",
   "execution_count": 32,
   "id": "elegant-invite",
   "metadata": {},
   "outputs": [],
   "source": [
    "y_train_pred_90 = (y_scores >= threshold_90_precision)"
   ]
  },
  {
   "cell_type": "markdown",
   "id": "persistent-huntington",
   "metadata": {},
   "source": [
    "Let's check these predictions' precision and recall:"
   ]
  },
  {
   "cell_type": "code",
   "execution_count": 33,
   "id": "concerned-idaho",
   "metadata": {},
   "outputs": [
    {
     "data": {
      "text/plain": [
       "0.9000345901072293"
      ]
     },
     "execution_count": 33,
     "metadata": {},
     "output_type": "execute_result"
    }
   ],
   "source": [
    "precision_score(y_train_5, y_train_pred_90)"
   ]
  },
  {
   "cell_type": "code",
   "execution_count": 35,
   "id": "entertaining-cameroon",
   "metadata": {},
   "outputs": [
    {
     "data": {
      "text/plain": [
       "0.4799852425751706"
      ]
     },
     "execution_count": 35,
     "metadata": {},
     "output_type": "execute_result"
    }
   ],
   "source": [
    "recall_score(y_train_5, y_train_pred_90)"
   ]
  },
  {
   "cell_type": "markdown",
   "id": "refined-cameroon",
   "metadata": {},
   "source": [
    "### The ROC Curve\n",
    "The reciever operating characteristic curve is another common tool used with binary classifiers. It is very similar to the precision/recall curve, bu tintead of plotting precision versus recall, the ROC curve plots the tru positive rate ( anotehr name for recall) against the false possitive rate (FPR). The FPR is the ration of negative instances that are incorrectly classified as positive. It is equal to 1 - the true negative rate (TNR), which is the ratio of negative instances that are correctly classified as negative. The TNR is also called specificity. Hence, the ROC curve plots sensitivity (recall) versus 1 - specificity."
   ]
  },
  {
   "cell_type": "code",
   "execution_count": 38,
   "id": "described-format",
   "metadata": {},
   "outputs": [],
   "source": [
    "from sklearn.metrics import roc_curve\n",
    "\n",
    "fpr, tpr, thresholds = roc_curve(y_train_5, y_scores)"
   ]
  },
  {
   "cell_type": "code",
   "execution_count": 47,
   "id": "major-milton",
   "metadata": {},
   "outputs": [
    {
     "data": {
      "image/png": "[encoded data removed]",
      "text/plain": [
       "<Figure size 432x288 with 1 Axes>"
      ]
     },
     "metadata": {
      "needs_background": "light"
     },
     "output_type": "display_data"
    }
   ],
   "source": [
    "def plot_roc_curve(fpr, tpr, label=None):\n",
    "    plt.plot(fpr, tpr, linewidth=2, label=label)\n",
    "    plt.plot([0, 1], [0, 1], \"k--\") #Dashed Diagonal\n",
    "    plt.xlabel(\"False Positive Rate\")\n",
    "    plt.ylabel(\"True Positive Rate (Recall)\")\n",
    "    plt.grid()\n",
    "\n",
    "plot_roc_curve(fpr, tpr)\n",
    "plt.show()"
   ]
  },
  {
   "cell_type": "markdown",
   "id": "promising-weapon",
   "metadata": {},
   "source": [
    "Once again thre is a trade-off : the higher the recall (TPR), the more false positives (FPR) the classifier produces. The dotted line represents the ROC curve of a purely random classifier; a good classifier stays as far away from that line as possible (toward the top-left corner)."
   ]
  },
  {
   "cell_type": "markdown",
   "id": "speaking-probe",
   "metadata": {},
   "source": [
    "### ROC AUC Score\n",
    "One way to tocompare classifiers is to measure the area under the curve (AUC). A perfect classifier will have a ROC AUC equal to 1, whereas a purely random classifier will have a ROC AUC equal to 0.5. Scikit-Learn provides a function to computer the ROC AUC:"
   ]
  },
  {
   "cell_type": "code",
   "execution_count": 50,
   "id": "miniature-reviewer",
   "metadata": {},
   "outputs": [
    {
     "data": {
      "text/plain": [
       "0.9604938554008616"
      ]
     },
     "execution_count": 50,
     "metadata": {},
     "output_type": "execute_result"
    }
   ],
   "source": [
    "from sklearn.metrics import roc_auc_score\n",
    "roc_auc_score(y_train_5, y_scores)"
   ]
  },
  {
   "cell_type": "markdown",
   "id": "stretch-toddler",
   "metadata": {},
   "source": [
    "### Random Forest Classifier\n",
    "Let's now train a RandomForesClssifier and compare its ROC curve and ROC AUC score those of the SGDClassifier. First, you need to get the scores of each instance inthe training set. But due to teh way it works, the RandomForesClassifier class noes not have a decision_function() method. Intead, it has a predict_proba() method. Scikit-Learn classifiers generally have one or the other, or both. The predict_proba(0 method returns an array containing a row per instance anda  column per class, each containing the probablity that the igven instance belogns ot the given class:"
   ]
  },
  {
   "cell_type": "code",
   "execution_count": 55,
   "id": "alternative-depth",
   "metadata": {},
   "outputs": [],
   "source": [
    "from sklearn.ensemble import RandomForestClassifier\n",
    "\n",
    "forest_clf = RandomForestClassifier(random_state=42)\n",
    "y_probas_forest = cross_val_predict(forest_clf, X_train, y_train_5, cv=3,\n",
    "                                   method=\"predict_proba\")"
   ]
  },
  {
   "cell_type": "markdown",
   "id": "supposed-imaging",
   "metadata": {},
   "source": [
    "The roc_curve() functins expects labels and scores, but instead of scores you can give it class porbabilities. Let's use the positive class's probability as teh score:"
   ]
  },
  {
   "cell_type": "code",
   "execution_count": 56,
   "id": "extensive-harvard",
   "metadata": {},
   "outputs": [],
   "source": [
    "y_scores_forest = y_probas_forest[:, 1] # score = proba of positive class\n",
    "fpr_forest, tpr_forest, thresholds_forest = roc_curve(y_train_5, y_scores_forest)"
   ]
  },
  {
   "cell_type": "code",
   "execution_count": 57,
   "id": "returning-leeds",
   "metadata": {},
   "outputs": [
    {
     "data": {
      "image/png": "[encoded data removed]",
      "text/plain": [
       "<Figure size 432x288 with 1 Axes>"
      ]
     },
     "metadata": {
      "needs_background": "light"
     },
     "output_type": "display_data"
    }
   ],
   "source": [
    "plt.plot(fpr, tpr, \"b:\", label=\"SGD\")\n",
    "plot_roc_curve(fpr_forest, tpr_forest, \"Random Forest\")\n",
    "plt.legend(loc=\"lower right\")\n",
    "plt.show()"
   ]
  },
  {
   "cell_type": "markdown",
   "id": "proper-budapest",
   "metadata": {},
   "source": [
    "Comparing ROC curves: the Rand Forest Classifier is superior to the SGD classifier because its ROC curve is much closer to the top-left corner, and it has a greater AUC."
   ]
  },
  {
   "cell_type": "code",
   "execution_count": 58,
   "id": "radical-fortune",
   "metadata": {},
   "outputs": [
    {
     "data": {
      "text/plain": [
       "0.9983436731328145"
      ]
     },
     "execution_count": 58,
     "metadata": {},
     "output_type": "execute_result"
    }
   ],
   "source": [
    "roc_auc_score(y_train_5, y_scores_forest)"
   ]
  },
  {
   "cell_type": "code",
   "execution_count": 61,
   "id": "injured-radical",
   "metadata": {},
   "outputs": [
    {
     "data": {
      "image/png": "[encoded data removed]",
      "text/plain": [
       "<Figure size 432x288 with 1 Axes>"
      ]
     },
     "metadata": {
      "needs_background": "light"
     },
     "output_type": "display_data"
    }
   ],
   "source": [
    "precisions_forest, recalls_forest, thresholds_forest = precision_recall_curve(y_train_5, y_scores_forest)\n",
    "\n",
    "# plt.plot(thresholds, precisions[:-1], \"b:\", label=\"Precision_SGD\")\n",
    "# plt.plot(thresholds, recalls[:-1], \"g:\", label=\"Recall_SGD\")\n",
    "plot_precision_recall_vs_threshold(precisions_forest, recalls_forest, thresholds_forest)\n",
    "plt.show()"
   ]
  },
  {
   "cell_type": "code",
   "execution_count": null,
   "id": "geographic-teddy",
   "metadata": {},
   "outputs": [],
   "source": []
  }
 ],
 "metadata": {
  "kernelspec": {
   "display_name": "Python 3",
   "language": "python",
   "name": "python3"
  },
  "language_info": {
   "codemirror_mode": {
    "name": "ipython",
    "version": 3
   },
   "file_extension": ".py",
   "mimetype": "text/x-python",
   "name": "python",
   "nbconvert_exporter": "python",
   "pygments_lexer": "ipython3",
   "version": "3.7.2"
  }
 },
 "nbformat": 4,
 "nbformat_minor": 5
}
