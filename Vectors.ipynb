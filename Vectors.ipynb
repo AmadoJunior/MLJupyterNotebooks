{
 "cells": [
  {
   "cell_type": "code",
   "execution_count": 6,
   "id": "roman-eclipse",
   "metadata": {},
   "outputs": [
    {
     "ename": "SyntaxError",
     "evalue": "invalid syntax (<ipython-input-6-73f4ef3077a0>, line 2)",
     "output_type": "error",
     "traceback": [
      "\u001b[0;36m  File \u001b[0;32m\"<ipython-input-6-73f4ef3077a0>\"\u001b[0;36m, line \u001b[0;32m2\u001b[0m\n\u001b[0;31m    A vector is a function from some domain **D** to a field. I proposed to represent such a function using a Python\u001b[0m\n\u001b[0m           ^\u001b[0m\n\u001b[0;31mSyntaxError\u001b[0m\u001b[0;31m:\u001b[0m invalid syntax\n"
     ]
    }
   ],
   "source": [
    "## Dictionary-Based Representation of Vectors\n",
    "A vector is a function from some domain **D** to a field. I proposed to represent such a function using a Python \n",
    "dictionary. It is convenient to define a \n",
    "Python class Vec so that an instance ha two fields (also know as intance variables, also known as attributes):\n",
    "\n",
    "- **f**, the function, representd by a Python dictionary, and\n",
    "- **D**, the domain of the function, represented by a Python set.\n",
    "\n",
    "We adopt the convention in which entries with value zero may be omitted from the dictionary **f**. \n",
    "This enables sparse vectors to be represented compactly. \n",
    "It might seem a bad idea to require that each instance of Vec keep track of the domain. \n",
    "For example, as previously pointed, in information retrieval one typically  has many documents,\n",
    "each including only a very small subset of words; \n",
    "it would waste memory to duplicate the entire list of allowed words with each document. \n",
    "Fortunately, as we saw previously, Python allows many variables (or instance variables) to point to the same set in memory. \n",
    "This, if we are careful, we can ensure that all the vectors representing documents point to the same domain.\n",
    "\n",
    "The Python code required to define the class Vec is:"
   ]
  },
  {
   "cell_type": "code",
   "execution_count": null,
   "id": "demographic-automation",
   "metadata": {},
   "outputs": [],
   "source": [
    "class Vec:\n",
    "    def __init__(self, labels, function):\n",
    "        self.D = labels\n",
    "        self.f = function"
   ]
  },
  {
   "cell_type": "code",
   "execution_count": null,
   "id": "recognized-egyptian",
   "metadata": {},
   "outputs": [],
   "source": [
    "v = Vec({\"A\", \"B\", \"C\"}, {\"A\": 1})\n",
    "\n",
    "for d in v.D:\n",
    "    if d in v.f:\n",
    "        print(v.f[d])"
   ]
  },
  {
   "cell_type": "markdown",
   "id": "romance-geography",
   "metadata": {},
   "source": [
    "## Vector Class Methods\n",
    "### Addition, Scalar Multiplication and Negation of a Vector"
   ]
  },
  {
   "cell_type": "code",
   "execution_count": null,
   "id": "blank-airport",
   "metadata": {},
   "outputs": [],
   "source": [
    "def get_item(v, d):\n",
    "    if d in v.f:\n",
    "        return v.f[d]\n",
    "    else:\n",
    "        return 0\n",
    "\n",
    "def set_item(v, d, val):\n",
    "    if d in v.D:\n",
    "        v.f[d] = val\n",
    "    else:\n",
    "        print(\"Outside of Domain\")\n",
    "\n",
    "def scalar_mul(v, alpha):\n",
    "    #Preserves Sparsity\n",
    "    return Vec(v.D, {d: alpha*value for d, value in v.f.items()})\n",
    "\n",
    "def add(u, v):\n",
    "    return Vec({d for d in v.D if d in u.D}, {d: get_item(u, d)+get_item(v, d) for d in v.D if get_item(u, d)+get_item(v, d) != 0})\n",
    "\n",
    "def neg(v):\n",
    "    return Vec(v.D, {d: -value for d, value in v.f.items()})"
   ]
  },
  {
   "cell_type": "markdown",
   "id": "sharp-audit",
   "metadata": {},
   "source": [
    "### Testing Methods"
   ]
  },
  {
   "cell_type": "code",
   "execution_count": null,
   "id": "architectural-concentration",
   "metadata": {},
   "outputs": [],
   "source": [
    "v_scaled = scalar_mul(v, 2)\n",
    "v_scaled.f"
   ]
  },
  {
   "cell_type": "code",
   "execution_count": null,
   "id": "raised-syracuse",
   "metadata": {},
   "outputs": [],
   "source": [
    "u = Vec(v.D, {\"A\": 5, \"C\": 10})\n",
    "v_sum = add(u, v)\n",
    "v_sum.f"
   ]
  },
  {
   "cell_type": "code",
   "execution_count": null,
   "id": "straight-luxury",
   "metadata": {},
   "outputs": [],
   "source": [
    "add(v_sum, neg(u)).f"
   ]
  },
  {
   "cell_type": "markdown",
   "id": "uniform-browser",
   "metadata": {},
   "source": [
    "## GF(2) Field - Perfect Secrecy Revised\n",
    "Recall **Alice** and **Bob** and their need for prefect secrecy. We saw in previously that encrypting a single-bit plaintext consisted of adding that bit to a single-bit key, using **GF(2)** addition. We saw also that, to encrypt a sequence of bits of plaintext, it sufficed to just encrypt each bit with its own bit of key. That process can be expresed more compactly using addition of vectors over **GF(2)**.\n",
    "\n",
    "**GF(2)** : \n",
    "- Addition is module 2. It is equivalent to **XOR** . Ex. 1 + 1 = 0.\n",
    "- Substraction if identical to addition. The negative of 1 is again 1, and the negative of 0 is again 0.\n",
    "- Multiplication in GF(2) is just like orginary multiplication of 0 and 1: It is equivalent to the bitwise operator **AND** .\n",
    "\n",
    "Suppose Alice needs to send a ten-bit plaintext **p** to Bob"
   ]
  },
  {
   "cell_type": "code",
   "execution_count": null,
   "id": "recorded-insider",
   "metadata": {},
   "outputs": [],
   "source": [
    "# For example, Alice and Bob agree on the following 10-vectors as a key:\n",
    "k = [0, 1, 1, 0, 1, 0, 0, 0, 0, 1]\n",
    "\n",
    "# Alice wants to send this message to Bob:\n",
    "p = [0, 0, 0, 1, 1, 1, 0, 1, 0, 1]\n",
    "\n",
    "# She encrypts it by adding p to k:\n",
    "c = [x ^ y for x, y in zip(k, p)]\n",
    "c"
   ]
  },
  {
   "cell_type": "code",
   "execution_count": null,
   "id": "bottom-former",
   "metadata": {},
   "outputs": [],
   "source": [
    "# When bob reviesves c, he decrypts it by ading k:\n",
    "message = [x ^ y for x, y in zip(c, k)]\n",
    "message"
   ]
  },
  {
   "cell_type": "markdown",
   "id": "systematic-investing",
   "metadata": {},
   "source": [
    "Next we check that the system satisfies perfect secrecy. The argument should be familiar. For each plaintext **p**, the function **k -> k + p** is one-to-one and onto, hence invertible. Since the key **k** is chosen uniformly at random, therefore, the cyphertext **c** is also distributed uniformly."
   ]
  },
  {
   "cell_type": "markdown",
   "id": "desirable-hunger",
   "metadata": {},
   "source": [
    "### Dot Product of a List"
   ]
  },
  {
   "cell_type": "code",
   "execution_count": null,
   "id": "prescribed-particular",
   "metadata": {},
   "outputs": [],
   "source": [
    "def list_dot(u, v):\n",
    "    return sum([x*y for (x, y) in zip(u, v)])"
   ]
  },
  {
   "cell_type": "markdown",
   "id": "painful-transformation",
   "metadata": {},
   "source": [
    "## Full Vector Implementation"
   ]
  },
  {
   "cell_type": "code",
   "execution_count": null,
   "id": "organizational-nerve",
   "metadata": {},
   "outputs": [],
   "source": [
    "def getitem(v,d):\n",
    "    \"Returns the value of entry d in v\"\n",
    "    assert d in v.D\n",
    "    return v.f[d] if d in v.f else 0\n",
    "\n",
    "def setitem(v,d,val):\n",
    "    \"Set the element of v with label d to be val\"\n",
    "    assert d in v.D\n",
    "    v.f[d] = val# if val != 0 else pass\n",
    "\n",
    "def equal(u,v):\n",
    "    \"Returns true iff u is equal to v\"\n",
    "    assert u.D == v.D\n",
    "    for i in u.D:\n",
    "        if u[i] != v[i]:\n",
    "            return False\n",
    "    return True\n",
    "    #return u.f == v.f\n",
    "\n",
    "def add(u,v):\n",
    "    \"Returns the sum of the two vectors\"\n",
    "    assert u.D == v.D\n",
    "    return Vec(u.D, {d: u[d] + v[d] for d in u.D})\n",
    "    \n",
    "def dot(u,v):\n",
    "    \"Returns the dot product of the two vectors\"\n",
    "    assert u.D == v.D\n",
    "    return sum([ u[d] * v[d] for d in u.D ])\n",
    "\n",
    "def scalar_mul(v, alpha):\n",
    "    \"Returns the scalar-vector product alpha times v\"  \n",
    "    return Vec(v.D, {d: v[d] * alpha for d in v.D})\n",
    "    \n",
    "\n",
    "def neg(v):\n",
    "    \"Returns the negation of a vector\"\n",
    "    return scalar_mul(v, -1)\n",
    "\n",
    "##### NO NEED TO MODIFY BELOW HERE #####\n",
    "class Vec:\n",
    "    \"\"\"\n",
    "    A vector has two fields:\n",
    "    D - the domain (a set)\n",
    "    f - a dictionary mapping (some) domain elements to field elements\n",
    "        elements of D not appearing in f are implicitly mapped to zero\n",
    "    \"\"\"\n",
    "    def __init__(self, labels, function):\n",
    "        self.D = labels\n",
    "        self.f = function\n",
    "\n",
    "    __getitem__ = getitem\n",
    "    __setitem__ = setitem\n",
    "    __neg__ = neg\n",
    "    __rmul__ = scalar_mul #if left arg of * is primitive, assume it's a scalar\n",
    "\n",
    "    def __mul__(self,other):\n",
    "        #If other is a vector, returns the dot product of self and other\n",
    "        if isinstance(other, Vec):\n",
    "            return dot(self,other)\n",
    "        else:\n",
    "            return NotImplemented  #  Will cause other.__rmul__(self) to be invoked\n",
    "\n",
    "    def __truediv__(self,other):  # Scalar division\n",
    "        return (1/other)*self\n",
    "\n",
    "    __add__ = add\n",
    "\n",
    "    def __radd__(self, other):\n",
    "        \"Hack to allow sum(...) to work with vectors\"\n",
    "        if other == 0:\n",
    "            return self\n",
    "    \n",
    "    def __sub__(a,b):\n",
    "         \"Returns a vector which is the difference of a and b.\"\n",
    "         return a+(-b)\n",
    "\n",
    "    __eq__ = equal\n",
    "\n",
    "    def __str__(v):\n",
    "        \"pretty-printing\"\n",
    "        try:\n",
    "            D_list = sorted(v.D)\n",
    "        except TypeError:\n",
    "            D_list = sorted(v.D, key=hash)\n",
    "        numdec = 3\n",
    "        wd = dict([(k,(1+max(len(str(k)), len('{0:.{1}G}'.format(v[k], numdec))))) if isinstance(v[k], int) or isinstance(v[k], float) else (k,(1+max(len(str(k)), len(str(v[k]))))) for k in D_list])\n",
    "        # w = 1+max([len(str(k)) for k in D_list]+[len('{0:.{1}G}'.format(value,numdec)) for value in v.f.values()])\n",
    "        s1 = ''.join(['{0:>{1}}'.format(k,wd[k]) for k in D_list])\n",
    "        s2 = ''.join(['{0:>{1}.{2}G}'.format(v[k],wd[k],numdec) if isinstance(v[k], int) or isinstance(v[k], float) else '{0:>{1}}'.format(v[k], wd[k]) for k in D_list])\n",
    "        return \"\\n\" + s1 + \"\\n\" + '-'*sum(wd.values()) +\"\\n\" + s2\n",
    "\n",
    "    def __repr__(self):\n",
    "        return \"Vec(\" + str(self.D) + \",\" + str(self.f) + \")\"\n",
    "\n",
    "    def copy(self):\n",
    "        \"Don't make a new copy of the domain D\"\n",
    "        return Vec(self.D, self.f.copy())"
   ]
  },
  {
   "cell_type": "markdown",
   "id": "unique-plastic",
   "metadata": {},
   "source": [
    "## Vec_Util Implementation"
   ]
  },
  {
   "cell_type": "code",
   "execution_count": null,
   "id": "unlike-smell",
   "metadata": {},
   "outputs": [],
   "source": [
    "def list2vec(L):\n",
    "    \"\"\"Given a list L of field elements, return a Vec with domain {0...len(L)-1}\n",
    "    whose entry i is L[i]\n",
    "\n",
    "    >>> list2vec([10, 20, 30])\n",
    "    Vec({0, 1, 2},{0: 10, 1: 20, 2: 30})\n",
    "    \"\"\"\n",
    "    return Vec(set(range(len(L))), {k: val for (k, val) in enumerate(L)} )\n",
    "\n",
    "def zero_vec(D):\n",
    "    \"\"\"Returns a zero vector with the given domain\n",
    "    \"\"\"\n",
    "    return Vec(D, {})\n"
   ]
  },
  {
   "cell_type": "code",
   "execution_count": null,
   "id": "living-dress",
   "metadata": {},
   "outputs": [],
   "source": [
    "v = Vec({\"A\", \"B\", \"C\"}, {\"A\": 1})\n",
    "print(v)"
   ]
  },
  {
   "cell_type": "code",
   "execution_count": null,
   "id": "amended-present",
   "metadata": {},
   "outputs": [],
   "source": [
    "print(repr(v))"
   ]
  },
  {
   "cell_type": "markdown",
   "id": "established-landscape",
   "metadata": {},
   "source": [
    "### List to Vec Procedure"
   ]
  },
  {
   "cell_type": "code",
   "execution_count": null,
   "id": "different-singapore",
   "metadata": {},
   "outputs": [],
   "source": [
    "def list2vec(L):\n",
    "    return Vec(set(range(len(L))), {k: val for (k, val) in enumerate(L)} )"
   ]
  },
  {
   "cell_type": "markdown",
   "id": "impressed-evans",
   "metadata": {},
   "source": [
    "## Solving a Triangular System of Linear Equations\n",
    "As a step towards Computational Problem Solving, we describe an algorithm for solving a system if the system has a special form.\n",
    "### Upper-Triangular Systems\n",
    "A *upper-triangular system of linear equations* has the form:"
   ]
  },
  {
   "cell_type": "markdown",
   "id": "upper-church",
   "metadata": {},
   "source": [
    "$$\n",
    "\\begin{align}\n",
    "    \\begin{bmatrix} \n",
    "        a_11 & a_12 & a_13 & \\dots & a_{1,n-1} & a_{1,n}\n",
    "    \\end{bmatrix}  * x = \\beta_1 \\\\\n",
    "    \\begin{bmatrix} \n",
    "        0 & a_22 & a_23 & \\dots & a_{2,n-1} & a_{2,n}\n",
    "    \\end{bmatrix} * x = \\beta_2 \\\\\n",
    "    \\begin{bmatrix} \n",
    "        0 & 0 & a_33 & \\dots & a_{2,n-1} & a_{2,n}\n",
    "    \\end{bmatrix} * x = \\beta_3 \\\\\n",
    "    \\begin{bmatrix} \n",
    "        0 & 0 & 0 & \\dots & a_{n-1,n-1} & a_{n-1,n}\n",
    "    \\end{bmatrix} * x = \\beta_4 \\\\\n",
    "    \\begin{bmatrix} \n",
    "        0 & 0 & 0 & \\dots & 0 & a_{n,n}\n",
    "    \\end{bmatrix} * x = \\beta_5 \\\\\n",
    "\\end{align}\n",
    "$$\n",
    "\n",
    "That is,\n",
    "\n",
    "- The first vector need not have any zeroes,\n",
    "- The second vector has a zero in the first position,\n",
    "- The third vector has a zero in the first and second positions,\n",
    "- The fourth vector has zeroes in the first, second, and their position,\n",
    "\n",
    "- $ \\vdots $\n",
    "\n",
    "- The $n - 1^{st}$ vector is all zeroes except possibly for the $n - 1^{st}$ and $n^{th}$ entries\n",
    "- The $n^{th}$ vector is all zeroes except possibly for the $n^{th}$ entry.\n",
    "\n",
    "#### Example Using 4-Vector\n",
    "$$\n",
    "\\begin{align}\n",
    "    \\begin{bmatrix}\n",
    "    1 & 0.5 & -1 & 4\n",
    "    \\end{bmatrix} * x = -8 \\\\\n",
    "    \\begin{bmatrix}\n",
    "    0 & 3 & 3 & 2\n",
    "    \\end{bmatrix} * x = 3 \\\\\n",
    "    \\begin{bmatrix}\n",
    "    0 & 0 & 1 & 5\n",
    "    \\end{bmatrix} * x = -4 \\\\\n",
    "    \\begin{bmatrix}\n",
    "    0 & 0 & 0 & 2\n",
    "    \\end{bmatrix} * x = 6 \\\\\n",
    "\\end{align}\n",
    "$$\n",
    "\n",
    "The origin of the term *upper_triangular system* should be apparent by considering the positions of the nonzero entries: they form a triangle.\n",
    "\n",
    "Writing $x = \\begin{bmatrix} x_1 & x_2 & x_3 & x_4 \\end{bmatrix}$ and using the definition of dot-product, we can rewrite this system as four ordinary equations inthe (scalar) unknowns $x_1,x_2,x_3,x_4$:\n",
    "\n",
    "$\n",
    "\\begin{align}\n",
    "1_{x_1} + 0.5_{x_2} - 2_{x_3} + 4_{x_4} = -8 \\\\\n",
    "         3_{x_2} - 3_{x_3} + 2_{x_4} = 3 \\\\\n",
    "                      1_{x_3} + 5_{x_4} = -4 \\\\\n",
    "                                2_{x_4} = 5 \\\\\n",
    "\\end{align}\n",
    "$"
   ]
  },
  {
   "cell_type": "markdown",
   "id": "parliamentary-upgrade",
   "metadata": {},
   "source": [
    "### Backward Substitution\n",
    "This suggest a solution stategy. First, solve for $x_3$ using the foruth equation. Plug the resulting value for $x_4$ into the third equations, and solve for $x_3$. Plug the values for $x_3$ and $x_4$ into the second equation and solve for $x_2$. Plug the values for $x_2$, $x_3$, and $x_4$ into the first aequation and solve for $x_1$. In ech iteration, only one variable needs to be solve for. Thus the above system is solve.\n",
    "#### Implementation"
   ]
  },
  {
   "cell_type": "code",
   "execution_count": 3,
   "id": "handmade-fundamental",
   "metadata": {},
   "outputs": [],
   "source": [
    "def triangular_solve(rowlist, label_list, b):\n",
    "    D = rowlist[0].D\n",
    "    x = zero_vec(D)\n",
    "    for i in reversed(range(len(D))):\n",
    "        c = label_list[i]\n",
    "        row = rowlist[i]\n",
    "        x[c] = (b[i] - row * x) / row[c]\n",
    "    return x"
   ]
  },
  {
   "cell_type": "markdown",
   "id": "outside-baking",
   "metadata": {},
   "source": [
    "## Linear Combinations\n",
    "### From coefficient to linear combination\n",
    "There are two related computational problems, the forward problem (given an element of the domain, find the image under the function) and the backward problem (given an element of the co-domain, find any pre-image if there is one).\n",
    "\n",
    "Solving the forward problem is easy:"
   ]
  },
  {
   "cell_type": "code",
   "execution_count": 5,
   "id": "cellular-judges",
   "metadata": {},
   "outputs": [],
   "source": [
    "def lin_comb(vlist, clist):\n",
    "    \"\"\"\n",
    "        input: a list vlist of vectors, a list clist of the same length consisting of scalars\n",
    "        output: the vector that is the linear combination of vectors in vlist with corresponding\n",
    "        coefficients clist\n",
    "    \"\"\"\n",
    "    return sum([v * scalar for (v, scalar) in zip(vlist, clist)])"
   ]
  },
  {
   "cell_type": "markdown",
   "id": "structural-packaging",
   "metadata": {},
   "source": [
    "### From linear combination to coefficients\n",
    "The first question is: can you solve the backward problem? that is, can you obtain a pre-image of b under f? the second question is: how can we tell whether ther is a single solution? If there are multiple pre-images of b, we cannot be confident that we have calculated the true number of garden gnomes.\n",
    "\n",
    "The first question is a computational problem:"
   ]
  },
  {
   "cell_type": "markdown",
   "id": "assumed-anchor",
   "metadata": {},
   "source": [
    "*Expressing a given vector as a linear combination of other given vectors*\n",
    "- input: a vector $b$ and a list $[v_1,\\dots, v_n]$ of $n$ vectors\n",
    "- output: a list $[a_1, \\dots, a_n]$ of coefficients such that: \n",
    "$$\n",
    "b = \\alpha_1v_1 + \\dots + \\alpha_n v_n\n",
    "$$\n",
    "\n",
    "or a report that none exists.\n",
    "\n",
    "Finding a linear combination of given vectors $v_1, \\dots, v_n$ that equals a given vector $b$ is equivalent to solving a linear system."
   ]
  },
  {
   "cell_type": "code",
   "execution_count": null,
   "id": "agricultural-finder",
   "metadata": {},
   "outputs": [],
   "source": []
  }
 ],
 "metadata": {
  "kernelspec": {
   "display_name": "Python 3",
   "language": "python",
   "name": "python3"
  },
  "language_info": {
   "codemirror_mode": {
    "name": "ipython",
    "version": 3
   },
   "file_extension": ".py",
   "mimetype": "text/x-python",
   "name": "python",
   "nbconvert_exporter": "python",
   "pygments_lexer": "ipython3",
   "version": "3.7.2"
  }
 },
 "nbformat": 4,
 "nbformat_minor": 5
}
